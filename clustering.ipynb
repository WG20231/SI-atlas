{
 "cells": [
  {
   "cell_type": "code",
   "execution_count": null,
   "id": "b156a431",
   "metadata": {},
   "outputs": [],
   "source": [
    "import warnings\n",
    "warnings.filterwarnings('ignore')"
   ]
  },
  {
   "cell_type": "code",
   "execution_count": null,
   "id": "c5684d04",
   "metadata": {},
   "outputs": [],
   "source": [
    "import scanpy as sc\n",
    "import anndata\n",
    "from scipy import io\n",
    "from scipy.sparse import coo_matrix, csr_matrix\n",
    "import numpy as np\n",
    "import os\n",
    "import pandas as pd"
   ]
  },
  {
   "cell_type": "code",
   "execution_count": null,
   "id": "ceed34fa",
   "metadata": {},
   "outputs": [],
   "source": [
    "import matplotlib.pyplot as plt"
   ]
  },
  {
   "cell_type": "code",
   "execution_count": null,
   "id": "c06a757e",
   "metadata": {},
   "outputs": [],
   "source": [
    "import scirpy\n",
    "import h5py\n",
    "import anndata"
   ]
  },
  {
   "cell_type": "code",
   "execution_count": null,
   "id": "faf97c15",
   "metadata": {},
   "outputs": [],
   "source": [
    "from matplotlib.pyplot import rc_context"
   ]
  },
  {
   "cell_type": "code",
   "execution_count": null,
   "id": "40343564",
   "metadata": {},
   "outputs": [],
   "source": [
    "pd.set_option('display.max_rows', None)"
   ]
  },
  {
   "cell_type": "code",
   "execution_count": null,
   "id": "7560bc64",
   "metadata": {},
   "outputs": [],
   "source": [
    "sc.set_figure_params(scanpy=True, fontsize=12)"
   ]
  },
  {
   "cell_type": "code",
   "execution_count": null,
   "id": "5d52dfd8",
   "metadata": {},
   "outputs": [],
   "source": [
    "## the count matrix from datasets were combined\n",
    "\n",
    "# load sparse matrix:\n",
    "X = io.mmread(\"counts.mtx\")\n",
    "\n",
    "# create anndata object\n",
    "adata = anndata.AnnData(\n",
    "    X=X.transpose().tocsr()\n",
    ")\n",
    "\n",
    "# load cell metadata:\n",
    "cell_meta = pd.read_csv(\"metadata.csv\", low_memory=False)\n",
    "\n",
    "# load gene names:\n",
    "with open(\"gene_names.csv\", 'r') as f:\n",
    "    gene_names = f.read().splitlines()\n",
    "\n",
    "# set anndata observations and index obs by barcodes, var by gene names\n",
    "adata.obs = cell_meta\n",
    "adata.obs.index = adata.obs['barcode']\n",
    "adata.var.index = gene_names"
   ]
  },
  {
   "cell_type": "code",
   "execution_count": null,
   "id": "5cdb46a4",
   "metadata": {},
   "outputs": [],
   "source": [
    "adata.var['ribo'] = adata.var_names.str.contains('RPL') | adata.var_names.str.contains('RPS') # annotate the group of ribosomal genes as 'ribo'\n",
    "sc.pp.calculate_qc_metrics(adata, qc_vars=['ribo'], percent_top=None, log1p=False, inplace=True)"
   ]
  },
  {
   "cell_type": "code",
   "execution_count": null,
   "id": "943a654e",
   "metadata": {},
   "outputs": [],
   "source": [
    "si=adata[adata.obs['Region'].isin(['SmallInt'])] ####we only use the SI datasets"
   ]
  },
  {
   "cell_type": "code",
   "execution_count": null,
   "id": "7caa34e2",
   "metadata": {},
   "outputs": [],
   "source": [
    "sc.pp.filter_cells(si, min_genes=200)\n",
    "sc.pp.filter_genes(si, min_cells=3)"
   ]
  },
  {
   "cell_type": "code",
   "execution_count": null,
   "id": "dffe4c98",
   "metadata": {},
   "outputs": [],
   "source": [
    "sc.pp.normalize_total(si, target_sum=1e4)"
   ]
  },
  {
   "cell_type": "code",
   "execution_count": null,
   "id": "e9e50a19",
   "metadata": {},
   "outputs": [],
   "source": [
    "sc.pp.log1p(si)"
   ]
  },
  {
   "cell_type": "code",
   "execution_count": null,
   "id": "90c69d02",
   "metadata": {},
   "outputs": [],
   "source": [
    "sc.pp.highly_variable_genes(si, min_mean=0.0125, max_mean=3, min_disp=0.5)"
   ]
  },
  {
   "cell_type": "code",
   "execution_count": null,
   "id": "1f64ae52",
   "metadata": {},
   "outputs": [],
   "source": [
    "si.raw = si"
   ]
  },
  {
   "cell_type": "code",
   "execution_count": null,
   "id": "990d14d1",
   "metadata": {},
   "outputs": [],
   "source": [
    "si = si[:, si.var.highly_variable]"
   ]
  },
  {
   "cell_type": "code",
   "execution_count": null,
   "id": "828768ad",
   "metadata": {},
   "outputs": [],
   "source": [
    "sc.pp.regress_out(si, ['total_counts', 'percent.mt','pct_counts_ribo'])"
   ]
  },
  {
   "cell_type": "code",
   "execution_count": null,
   "id": "7cf683e5",
   "metadata": {},
   "outputs": [],
   "source": [
    "sc.pp.scale(si, max_value=10)"
   ]
  },
  {
   "cell_type": "code",
   "execution_count": null,
   "id": "e07beb83",
   "metadata": {},
   "outputs": [],
   "source": [
    "sc.tl.pca(si,svd_solver='arpack')"
   ]
  },
  {
   "cell_type": "code",
   "execution_count": null,
   "id": "a59dbadc",
   "metadata": {},
   "outputs": [],
   "source": [
    "import bbknn"
   ]
  },
  {
   "cell_type": "code",
   "execution_count": null,
   "id": "479f6bc3",
   "metadata": {},
   "outputs": [],
   "source": [
    "bbknn.bbknn(si, batch_key='sample_name',metric='euclidean',neighbors_within_batch=3,n_pcs=50) ###batch correction"
   ]
  },
  {
   "cell_type": "code",
   "execution_count": null,
   "id": "da160ff1",
   "metadata": {},
   "outputs": [],
   "source": [
    "sc.tl.umap(si) ####clustering"
   ]
  },
  {
   "cell_type": "code",
   "execution_count": null,
   "id": "0e229d50",
   "metadata": {},
   "outputs": [],
   "source": [
    "si.uns['log1p'][\"base\"] = None\n",
    "sc.tl.rank_genes_groups(si, 'leiden', method='wilcoxon')\n",
    "sc.pl.rank_genes_groups(si, n_genes=25, sharey=False)"
   ]
  }
 ],
 "metadata": {
  "kernelspec": {
   "display_name": "Python 3 (ipykernel)",
   "language": "python",
   "name": "python3"
  },
  "language_info": {
   "codemirror_mode": {
    "name": "ipython",
    "version": 3
   },
   "file_extension": ".py",
   "mimetype": "text/x-python",
   "name": "python",
   "nbconvert_exporter": "python",
   "pygments_lexer": "ipython3",
   "version": "3.9.16"
  }
 },
 "nbformat": 4,
 "nbformat_minor": 5
}
