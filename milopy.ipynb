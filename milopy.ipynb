{
 "cells": [
  {
   "cell_type": "code",
   "execution_count": 3,
   "id": "7b624ccd",
   "metadata": {},
   "outputs": [],
   "source": [
    "import warnings\n",
    "warnings.filterwarnings('ignore')"
   ]
  },
  {
   "cell_type": "code",
   "execution_count": 4,
   "id": "6f2c9148",
   "metadata": {},
   "outputs": [],
   "source": [
    "import scanpy as sc\n",
    "import anndata\n",
    "from scipy import io\n",
    "from scipy.sparse import coo_matrix, csr_matrix\n",
    "import numpy as np\n",
    "import os\n",
    "import pandas as pd\n",
    "from matplotlib.pyplot import rc_context"
   ]
  },
  {
   "cell_type": "code",
   "execution_count": 5,
   "id": "6b38d997",
   "metadata": {},
   "outputs": [],
   "source": [
    "import milopy\n",
    "import milopy.core as milo"
   ]
  },
  {
   "cell_type": "code",
   "execution_count": 6,
   "id": "943a7a94",
   "metadata": {},
   "outputs": [],
   "source": [
    "sc.set_figure_params(scanpy=True, fontsize=12)"
   ]
  },
  {
   "cell_type": "code",
   "execution_count": null,
   "id": "7210c0c6",
   "metadata": {},
   "outputs": [],
   "source": [
    "mye=sc.read_h5ad('fetal_Myeloid_si_0321_new.h5ad')"
   ]
  },
  {
   "cell_type": "code",
   "execution_count": null,
   "id": "9e8dfcd1",
   "metadata": {},
   "outputs": [],
   "source": [
    "mye.obs['Age2_group'] = (\n",
    "    mye.obs[\"Age2\"]\n",
    "    .map(lambda x: { '8Wk':8,\n",
    "                     '9Wk':9,\n",
    "                     '10Wk':10,\n",
    "                     '11Wk':11, \n",
    "                     '12Wk':12, \n",
    "                     '13Wk':13, \n",
    "                     '14Wk':14, \n",
    "                     '16Wk':16,\n",
    "                     '17Wk':17,\n",
    "                     '18Wk':18, \n",
    "                     '19Wk':19,\n",
    "                     '20Wk':20, \n",
    "                     '21Wk':21, \n",
    "                     '23Wk':23\n",
    "                   }.get(x, x))\n",
    "    .astype(\"int\")\n",
    ")"
   ]
  },
  {
   "cell_type": "code",
   "execution_count": null,
   "id": "058c5bab",
   "metadata": {},
   "outputs": [],
   "source": [
    "d = 30\n",
    "k = 50\n",
    "\n",
    "sc.pp.neighbors(mye, n_neighbors=k, n_pcs=d)"
   ]
  },
  {
   "cell_type": "code",
   "execution_count": null,
   "id": "10af8858",
   "metadata": {},
   "outputs": [],
   "source": [
    "milo.make_nhoods(mye, prop=1) ###all cells"
   ]
  },
  {
   "cell_type": "code",
   "execution_count": null,
   "id": "5121dd67",
   "metadata": {},
   "outputs": [],
   "source": [
    "import matplotlib.pyplot as plt"
   ]
  },
  {
   "cell_type": "code",
   "execution_count": null,
   "id": "14573c05",
   "metadata": {},
   "outputs": [],
   "source": [
    "nhood_size = np.array(mye.obsm[\"nhoods\"].sum(0)).ravel()\n",
    "plt.hist(nhood_size, bins=100);"
   ]
  },
  {
   "cell_type": "code",
   "execution_count": null,
   "id": "87642f5f",
   "metadata": {},
   "outputs": [],
   "source": [
    "milo.count_nhoods(mye, sample_col=\"sample_name\")"
   ]
  },
  {
   "cell_type": "code",
   "execution_count": null,
   "id": "a6ac1a19",
   "metadata": {},
   "outputs": [],
   "source": [
    "milo.DA_nhoods(mye, design=\"~Age2_group\")"
   ]
  },
  {
   "cell_type": "code",
   "execution_count": null,
   "id": "22003462",
   "metadata": {},
   "outputs": [],
   "source": [
    "import milopy.utils\n",
    "milopy.utils.build_nhood_graph(mye)"
   ]
  },
  {
   "cell_type": "code",
   "execution_count": null,
   "id": "cc9a9528",
   "metadata": {},
   "outputs": [],
   "source": [
    "import milopy.plot as milopl"
   ]
  },
  {
   "cell_type": "code",
   "execution_count": null,
   "id": "253a4c0e",
   "metadata": {},
   "outputs": [],
   "source": [
    "plt.rcParams[\"figure.figsize\"] = [5,5]\n",
    "milopl.plot_nhood_graph(mye, \n",
    "                        alpha=0.01, ## SpatialFDR level (1%) \n",
    "                        min_size=2 ## Size of smallest dot\n",
    "                       )"
   ]
  },
  {
   "cell_type": "code",
   "execution_count": null,
   "id": "bc7ca24f",
   "metadata": {},
   "outputs": [],
   "source": [
    "milopy.utils.annotate_nhoods(mye, anno_col='celltype2')"
   ]
  },
  {
   "cell_type": "code",
   "execution_count": null,
   "id": "c3c60db7",
   "metadata": {},
   "outputs": [],
   "source": [
    "plt.hist(mye.uns['nhood_adata'].obs[\"nhood_annotation_frac\"]);\n",
    "plt.xlabel(\"celltype fraction\")"
   ]
  },
  {
   "cell_type": "code",
   "execution_count": null,
   "id": "aed189d1",
   "metadata": {},
   "outputs": [],
   "source": [
    "with rc_context({'figure.figsize': (8, 4)}):\n",
    "    sc.pl.violin(mye.uns['nhood_adata'], \"logFC\", groupby=\"nhood_annotation\", rotation=90, show=False,\n",
    "                order=['LYVE1+CX3CR1+ MΦ','Cyling','CMP', 'classical monocytes', 'CX3CR1-CLEC10A_lo MΦ','CX3CR1+CLEC10A_hi MΦ','LYVE1+CX3CR1- MΦ','CX3CR1-CLEC10A_hi MΦ',\n",
    "                      'cDC1', 'cDC2', 'pDC','MMP9_int MΦ', 'MMP9_hi MΦ','nonclassical monocytes','Migratory DCs',\n",
    "       'Mast cells'], size=2,palette=col2);\n",
    "    plt.axhline(y=0, color='black', linestyle='--');\n",
    "    plt.show()"
   ]
  }
 ],
 "metadata": {
  "kernelspec": {
   "display_name": "Python 3 (ipykernel)",
   "language": "python",
   "name": "python3"
  },
  "language_info": {
   "codemirror_mode": {
    "name": "ipython",
    "version": 3
   },
   "file_extension": ".py",
   "mimetype": "text/x-python",
   "name": "python",
   "nbconvert_exporter": "python",
   "pygments_lexer": "ipython3",
   "version": "3.9.16"
  }
 },
 "nbformat": 4,
 "nbformat_minor": 5
}
