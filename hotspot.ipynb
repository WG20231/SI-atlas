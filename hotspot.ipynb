{
 "cells": [
  {
   "cell_type": "code",
   "execution_count": null,
   "id": "8ce11f00",
   "metadata": {},
   "outputs": [],
   "source": [
    "import warnings\n",
    "warnings.filterwarnings('ignore')"
   ]
  },
  {
   "cell_type": "code",
   "execution_count": null,
   "id": "9ff3a4c1",
   "metadata": {},
   "outputs": [],
   "source": [
    "import scanpy as sc\n",
    "import anndata\n",
    "from scipy import io\n",
    "from scipy.sparse import coo_matrix, csr_matrix\n",
    "import numpy as np\n",
    "import os\n",
    "import pandas as pd"
   ]
  },
  {
   "cell_type": "code",
   "execution_count": null,
   "id": "10e747b6",
   "metadata": {},
   "outputs": [],
   "source": [
    "import matplotlib.pyplot as plt"
   ]
  },
  {
   "cell_type": "code",
   "execution_count": null,
   "id": "54d5e5c4",
   "metadata": {},
   "outputs": [],
   "source": [
    "import scirpy\n",
    "import h5py\n",
    "import anndata"
   ]
  },
  {
   "cell_type": "code",
   "execution_count": null,
   "id": "9cc75aad",
   "metadata": {},
   "outputs": [],
   "source": [
    "from matplotlib.pyplot import rc_context"
   ]
  },
  {
   "cell_type": "code",
   "execution_count": null,
   "id": "0d4a0f4f",
   "metadata": {},
   "outputs": [],
   "source": [
    "pd.set_option('display.max_rows', None)"
   ]
  },
  {
   "cell_type": "code",
   "execution_count": null,
   "id": "0868620d",
   "metadata": {},
   "outputs": [],
   "source": [
    "sc.set_figure_params(scanpy=True, fontsize=12)"
   ]
  },
  {
   "cell_type": "code",
   "execution_count": null,
   "id": "28f03a13",
   "metadata": {},
   "outputs": [],
   "source": [
    "cd4=mem[mem.obs['celltype'].isin(['CD4 Tmem'])]"
   ]
  },
  {
   "cell_type": "code",
   "execution_count": null,
   "id": "e7a3c351",
   "metadata": {},
   "outputs": [],
   "source": [
    "cd4 = cd4.raw.to_adata()"
   ]
  },
  {
   "cell_type": "code",
   "execution_count": null,
   "id": "1f3e5fdc",
   "metadata": {},
   "outputs": [],
   "source": [
    "cd4.uns['log1p']['base'] = None"
   ]
  },
  {
   "cell_type": "code",
   "execution_count": null,
   "id": "978b3486",
   "metadata": {},
   "outputs": [],
   "source": [
    "sc.pp.highly_variable_genes(cd4, min_mean=0.0125, max_mean=3, min_disp=0.5)"
   ]
  },
  {
   "cell_type": "code",
   "execution_count": null,
   "id": "27bb0c98",
   "metadata": {},
   "outputs": [],
   "source": [
    "cd4.raw = cd4"
   ]
  },
  {
   "cell_type": "code",
   "execution_count": null,
   "id": "16e778a4",
   "metadata": {},
   "outputs": [],
   "source": [
    "cd4.layers[\"counts\"] = cd4.X.copy()"
   ]
  },
  {
   "cell_type": "code",
   "execution_count": null,
   "id": "0b3fcab4",
   "metadata": {},
   "outputs": [],
   "source": [
    "cd4 = cd4[:, cd4.var.highly_variable]"
   ]
  },
  {
   "cell_type": "code",
   "execution_count": null,
   "id": "241f3496",
   "metadata": {},
   "outputs": [],
   "source": [
    "import hotspot\n",
    "#import muon as mu\n",
    "import mplscience\n",
    "import matplotlib.pyplot as plt\n",
    "import matplotlib.colors\n",
    "import seaborn as sns\n",
    "#import mplscience\n",
    "\n",
    "from scipy.io import mmread\n",
    "from scipy.sparse import csr_matrix"
   ]
  },
  {
   "cell_type": "code",
   "execution_count": null,
   "id": "ac7c0269",
   "metadata": {},
   "outputs": [],
   "source": [
    "hs = hotspot.Hotspot(cd4, model='normal',latent_obsm_key='X_umap',layer_key=\"counts\")\n",
    "\n",
    "hs.create_knn_graph(\n",
    "    weighted_graph=False, n_neighbors=30,\n",
    ")"
   ]
  },
  {
   "cell_type": "code",
   "execution_count": null,
   "id": "6b7daa3a",
   "metadata": {},
   "outputs": [],
   "source": [
    "hs_results = hs.compute_autocorrelations(jobs=16)"
   ]
  },
  {
   "cell_type": "code",
   "execution_count": null,
   "id": "56881cc9",
   "metadata": {},
   "outputs": [],
   "source": [
    "hs_genes = hs_results.loc[hs_results.FDR < 0.05].sort_values('Z', ascending=False).head(500).index"
   ]
  },
  {
   "cell_type": "code",
   "execution_count": null,
   "id": "a8af6db9",
   "metadata": {},
   "outputs": [],
   "source": [
    "hs_genes2=hs_genes[hs_genes.str.contains('RPL')| hs_genes.str.contains('RPS')|hs_genes.str.contains('MT-')|hs_genes.str.contains('\\.')|hs_genes.str.contains('-AS')\n",
    "                  |hs_genes.str.contains('-DT') |hs_genes.str.contains('-IT1')|hs_genes.str.contains('LINC')\n",
    "                  |hs_genes.str.contains('orf')]"
   ]
  },
  {
   "cell_type": "code",
   "execution_count": null,
   "id": "52b08fb1",
   "metadata": {},
   "outputs": [],
   "source": [
    "hs_genes3=hs_genes.drop(hs_genes2)"
   ]
  },
  {
   "cell_type": "code",
   "execution_count": null,
   "id": "47b1d5a9",
   "metadata": {},
   "outputs": [],
   "source": [
    "lcz = hs.compute_local_correlations(hs_genes3, jobs=16)"
   ]
  },
  {
   "cell_type": "code",
   "execution_count": null,
   "id": "0af35f72",
   "metadata": {},
   "outputs": [],
   "source": [
    "modules = hs.create_modules(\n",
    "    min_gene_threshold=20, core_only=True, fdr_threshold=0.05\n",
    ")"
   ]
  },
  {
   "cell_type": "code",
   "execution_count": null,
   "id": "d4a437a8",
   "metadata": {},
   "outputs": [],
   "source": [
    "hs.plot_local_correlations()\n",
    "#plt.savefig('cd4module.pdf',bbox_inches='tight')"
   ]
  },
  {
   "cell_type": "code",
   "execution_count": null,
   "id": "dd256c6b",
   "metadata": {},
   "outputs": [],
   "source": [
    "module_scores = hs.calculate_module_scores()"
   ]
  },
  {
   "cell_type": "code",
   "execution_count": null,
   "id": "ae8a98d1",
   "metadata": {},
   "outputs": [],
   "source": [
    "module_cols = []\n",
    "for c in module_scores.columns:\n",
    "    key = f\"Module {c}\"\n",
    "    cd4.obs[key] = module_scores[c]\n",
    "    module_cols.append(key)"
   ]
  },
  {
   "cell_type": "code",
   "execution_count": null,
   "id": "d44f011c",
   "metadata": {},
   "outputs": [],
   "source": [
    "sc.pl.umap(cd4, color=module_cols,size=10)"
   ]
  },
  {
   "cell_type": "code",
   "execution_count": null,
   "id": "8a6b2836",
   "metadata": {},
   "outputs": [],
   "source": [
    "sc.pl.dotplot(cd4, module_cols, groupby=['Age_combine'])"
   ]
  }
 ],
 "metadata": {
  "kernelspec": {
   "display_name": "Python 3 (ipykernel)",
   "language": "python",
   "name": "python3"
  },
  "language_info": {
   "codemirror_mode": {
    "name": "ipython",
    "version": 3
   },
   "file_extension": ".py",
   "mimetype": "text/x-python",
   "name": "python",
   "nbconvert_exporter": "python",
   "pygments_lexer": "ipython3",
   "version": "3.9.16"
  }
 },
 "nbformat": 4,
 "nbformat_minor": 5
}
