{
 "cells": [
  {
   "cell_type": "code",
   "execution_count": null,
   "id": "6b8f400f",
   "metadata": {},
   "outputs": [],
   "source": [
    "import scanpy as sc\n",
    "import anndata\n",
    "from scipy import io\n",
    "from scipy.sparse import coo_matrix, csr_matrix\n",
    "import numpy as np\n",
    "import os\n",
    "import pandas as pd\n",
    "from matplotlib.pyplot import rc_context"
   ]
  },
  {
   "cell_type": "code",
   "execution_count": null,
   "id": "7c436d07",
   "metadata": {},
   "outputs": [],
   "source": [
    "import phate\n",
    "import scprep"
   ]
  },
  {
   "cell_type": "code",
   "execution_count": null,
   "id": "00c09e3c",
   "metadata": {},
   "outputs": [],
   "source": [
    "sc.set_figure_params(scanpy=True, fontsize=12)"
   ]
  },
  {
   "cell_type": "code",
   "execution_count": null,
   "id": "8105fd63",
   "metadata": {},
   "outputs": [],
   "source": [
    "expr=pd.DataFrame(mye.X, columns = mye.var.index, index = mye.obs.index)"
   ]
  },
  {
   "cell_type": "code",
   "execution_count": null,
   "id": "9b59e255",
   "metadata": {},
   "outputs": [],
   "source": [
    "phate_operator = phate.PHATE(knn = 5,random_state=1,n_jobs=-1) \n",
    "Y_phate = phate_operator.fit_transform(expr)"
   ]
  },
  {
   "cell_type": "code",
   "execution_count": null,
   "id": "deec5f23",
   "metadata": {},
   "outputs": [],
   "source": [
    "celltype = mye.obs['celltype2']"
   ]
  },
  {
   "cell_type": "code",
   "execution_count": null,
   "id": "a5503846",
   "metadata": {},
   "outputs": [],
   "source": [
    "col=['#17becf','#d62728', '#aa40fc', '#8c564b','#1f77b4','#ff7f0e', '#279e68','#e377c2', '#b5bd61','#f7b6d2','#c49c94',\n",
    "    '#98df8a', '#ff9896','#aec7e8', '#ffbb78', '#c5b0d5']"
   ]
  },
  {
   "cell_type": "code",
   "execution_count": null,
   "id": "f6cb999e",
   "metadata": {},
   "outputs": [],
   "source": [
    "scprep.plot.scatter2d(Y_phate, celltype, figsize=(7,5), cmap=col,\n",
    "                      ticks=False, label_prefix=\"PHATE\",legend=None,legend_ncol=1,legend_anchor=(1,1), filename='myeloid_phate_0707.pdf',\n",
    "                     dpi=300, rasterized=True)"
   ]
  },
  {
   "cell_type": "code",
   "execution_count": null,
   "id": "eca75ea2",
   "metadata": {},
   "outputs": [],
   "source": [
    "#####individual phate graph\n",
    "\n",
    "n_rows = 7\n",
    "n_cols = 5\n",
    "\n",
    "fig, axes = plt.subplots(n_rows, n_cols, figsize=(n_cols*4,n_rows*4))\n",
    "axes = axes.flatten()\n",
    "clusters = mye.obs['leiden_R']\n",
    "cluster_ids = clusters.cat.categories\n",
    "for i in range(len(cluster_ids)):\n",
    "    ax = axes[i]\n",
    "    try:\n",
    "        curr_cluster = cluster_ids[i]\n",
    "        # Returns array([False, True,...,False]) indicating if each cell is in the\n",
    "        # current cluster\n",
    "        curr_mask = clusters == curr_cluster  \n",
    "        scprep.plot.scatter2d(Y_phate, curr_mask,legend_title=cluster_ids[i],\n",
    "                              cmap={True: 'red', False: 'grey'},\n",
    "                              ticks=False, label_prefix='PHATE', ax=ax)\n",
    "    except IndexError:\n",
    "        # we have more axes than clusters\n",
    "        ax.axis('off')\n",
    "\n",
    "\n",
    "fig.tight_layout()"
   ]
  }
 ],
 "metadata": {
  "kernelspec": {
   "display_name": "Python 3 (ipykernel)",
   "language": "python",
   "name": "python3"
  },
  "language_info": {
   "codemirror_mode": {
    "name": "ipython",
    "version": 3
   },
   "file_extension": ".py",
   "mimetype": "text/x-python",
   "name": "python",
   "nbconvert_exporter": "python",
   "pygments_lexer": "ipython3",
   "version": "3.9.16"
  }
 },
 "nbformat": 4,
 "nbformat_minor": 5
}
